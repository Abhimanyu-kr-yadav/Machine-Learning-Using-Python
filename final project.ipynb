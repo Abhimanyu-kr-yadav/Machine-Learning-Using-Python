{
 "cells": [
  {
   "cell_type": "code",
   "execution_count": 1,
   "metadata": {},
   "outputs": [],
   "source": [
    "import pandas as pd\n",
    "import numpy as np\n",
    "import matplotlib.pyplot as plt\n",
    "import seaborn as sns\n",
    "import pprint\n",
    "%matplotlib inline"
   ]
  },
  {
   "cell_type": "code",
   "execution_count": 3,
   "metadata": {},
   "outputs": [
    {
     "name": "stdout",
     "output_type": "stream",
     "text": [
      "==================================================\n",
      "First Five Rows  \n",
      "\n",
      "              Datetime   AEP_MW\n",
      "0  2004-12-31 01:00:00  13478.0\n",
      "1  2004-12-31 02:00:00  12865.0 \n",
      "\n",
      "==================================================\n",
      "Information About Dataset \n",
      "\n",
      "<class 'pandas.core.frame.DataFrame'>\n",
      "RangeIndex: 121273 entries, 0 to 121272\n",
      "Data columns (total 2 columns):\n",
      " #   Column    Non-Null Count   Dtype  \n",
      "---  ------    --------------   -----  \n",
      " 0   Datetime  121273 non-null  object \n",
      " 1   AEP_MW    121273 non-null  float64\n",
      "dtypes: float64(1), object(1)\n",
      "memory usage: 1.9+ MB\n",
      "None \n",
      "\n",
      "==================================================\n",
      "Describe the Dataset  \n",
      "\n",
      "              AEP_MW\n",
      "count  121273.000000\n",
      "mean    15499.513717\n",
      "std      2591.399065\n",
      "min      9581.000000\n",
      "25%     13630.000000\n",
      "50%     15310.000000\n",
      "75%     17200.000000\n",
      "max     25695.000000 \n",
      "\n",
      "==================================================\n",
      "Null Values t  \n",
      "\n",
      "Datetime    0\n",
      "AEP_MW      0\n",
      "dtype: int64 \n",
      "\n"
     ]
    }
   ],
   "source": [
    "df = pd.read_csv(\"E:\\\\4th Semester\\\\Machine Learning Using Python\\\\Project Dataset\\\\AEP_hourly.csv\")\n",
    "print(\"=\"*50)\n",
    "print(\"First Five Rows \",\"\\n\")\n",
    "print(df.head(2),\"\\n\")\n",
    "\n",
    "print(\"=\"*50)\n",
    "print(\"Information About Dataset\",\"\\n\")\n",
    "print(df.info(),\"\\n\")\n",
    "\n",
    "print(\"=\"*50)\n",
    "print(\"Describe the Dataset \",\"\\n\")\n",
    "print(df.describe(),\"\\n\")\n",
    "\n",
    "print(\"=\"*50)\n",
    "print(\"Null Values t \",\"\\n\")\n",
    "print(df.isnull().sum(),\"\\n\")"
   ]
  },
  {
   "cell_type": "code",
   "execution_count": 4,
   "metadata": {},
   "outputs": [
    {
     "name": "stderr",
     "output_type": "stream",
     "text": [
      "<ipython-input-4-71cefd3f5679>:7: FutureWarning: Series.dt.weekofyear and Series.dt.week have been deprecated.  Please use Series.dt.isocalendar().week instead.\n",
      "  dataset[\"Week\"] = pd.to_datetime(df[\"Datetime\"]).dt.week\n"
     ]
    },
    {
     "data": {
      "text/html": [
       "<div>\n",
       "<style scoped>\n",
       "    .dataframe tbody tr th:only-of-type {\n",
       "        vertical-align: middle;\n",
       "    }\n",
       "\n",
       "    .dataframe tbody tr th {\n",
       "        vertical-align: top;\n",
       "    }\n",
       "\n",
       "    .dataframe thead th {\n",
       "        text-align: right;\n",
       "    }\n",
       "</style>\n",
       "<table border=\"1\" class=\"dataframe\">\n",
       "  <thead>\n",
       "    <tr style=\"text-align: right;\">\n",
       "      <th></th>\n",
       "      <th>AEP_MW</th>\n",
       "      <th>Month</th>\n",
       "      <th>Year</th>\n",
       "      <th>Date</th>\n",
       "      <th>Time</th>\n",
       "      <th>Week</th>\n",
       "      <th>Day</th>\n",
       "    </tr>\n",
       "    <tr>\n",
       "      <th>Datetime</th>\n",
       "      <th></th>\n",
       "      <th></th>\n",
       "      <th></th>\n",
       "      <th></th>\n",
       "      <th></th>\n",
       "      <th></th>\n",
       "      <th></th>\n",
       "    </tr>\n",
       "  </thead>\n",
       "  <tbody>\n",
       "    <tr>\n",
       "      <th>2004-12-31 01:00:00</th>\n",
       "      <td>13478.0</td>\n",
       "      <td>12</td>\n",
       "      <td>2004</td>\n",
       "      <td>2004-12-31</td>\n",
       "      <td>01:00:00</td>\n",
       "      <td>53</td>\n",
       "      <td>Friday</td>\n",
       "    </tr>\n",
       "  </tbody>\n",
       "</table>\n",
       "</div>"
      ],
      "text/plain": [
       "                      AEP_MW  Month  Year        Date      Time  Week     Day\n",
       "Datetime                                                                     \n",
       "2004-12-31 01:00:00  13478.0     12  2004  2004-12-31  01:00:00    53  Friday"
      ]
     },
     "execution_count": 4,
     "metadata": {},
     "output_type": "execute_result"
    }
   ],
   "source": [
    "# Extract all Data Like Year MOnth Day Time etc\n",
    "dataset = df\n",
    "dataset[\"Month\"] = pd.to_datetime(df[\"Datetime\"]).dt.month\n",
    "dataset[\"Year\"] = pd.to_datetime(df[\"Datetime\"]).dt.year\n",
    "dataset[\"Date\"] = pd.to_datetime(df[\"Datetime\"]).dt.date\n",
    "dataset[\"Time\"] = pd.to_datetime(df[\"Datetime\"]).dt.time\n",
    "dataset[\"Week\"] = pd.to_datetime(df[\"Datetime\"]).dt.week\n",
    "dataset[\"Day\"] = pd.to_datetime(df[\"Datetime\"]).dt.day_name()\n",
    "dataset = df.set_index(\"Datetime\")\n",
    "dataset.index = pd.to_datetime(dataset.index)\n",
    "dataset.head(1)"
   ]
  },
  {
   "cell_type": "code",
   "execution_count": 5,
   "metadata": {},
   "outputs": [
    {
     "name": "stdout",
     "output_type": "stream",
     "text": [
      "[2004 2005 2006 2007 2008 2009 2010 2011 2012 2013 2014 2015 2016 2017\n",
      " 2018] \n",
      "\n",
      "Total Number of Unique Year 15 \n",
      "\n"
     ]
    }
   ],
   "source": [
    "# How many Unique Year do we Have in Dataset \n",
    "print(df.Year.unique(),\"\\n\")\n",
    "print(\"Total Number of Unique Year\", df.Year.nunique(), \"\\n\")"
   ]
  },
  {
   "cell_type": "code",
   "execution_count": 6,
   "metadata": {},
   "outputs": [
    {
     "name": "stderr",
     "output_type": "stream",
     "text": [
      "No handles with labels found to put in legend.\n"
     ]
    },
    {
     "data": {
      "text/plain": [
       "Text(0.5, 1.0, 'Energy Consumption According to Year')"
      ]
     },
     "execution_count": 6,
     "metadata": {},
     "output_type": "execute_result"
    },
    {
     "data": {
      "image/png": "[encoded data removed]",
      "text/plain": [
       "<Figure size 432x288 with 1 Axes>"
      ]
     },
     "metadata": {
      "needs_background": "light"
     },
     "output_type": "display_data"
    }
   ],
   "source": [
    "from matplotlib import style\n",
    "\n",
    "fig = plt.figure()\n",
    "ax1 = plt.subplot2grid((1,1), (0,0))\n",
    "\n",
    "style.use('ggplot')\n",
    "\n",
    "sns.lineplot(x=dataset[\"Year\"], y=dataset[\"AEP_MW\"], data=df)\n",
    "sns.set(rc={'figure.figsize':(15,6)})\n",
    "\n",
    "plt.title(\"Energy consumptionnin Year 2004\")\n",
    "plt.xlabel(\"Date\")\n",
    "plt.ylabel(\"Energy in MW\")\n",
    "plt.grid(True)\n",
    "plt.legend()\n",
    "\n",
    "for label in ax1.xaxis.get_ticklabels():\n",
    "    label.set_rotation(90)\n",
    "\n",
    "\n",
    "plt.title(\"Energy Consumption According to Year\")"
   ]
  },
  {
   "cell_type": "code",
   "execution_count": 8,
   "metadata": {},
   "outputs": [
    {
     "ename": "AssertionError",
     "evalue": "<class 'numpy.ndarray'>",
     "output_type": "error",
     "traceback": [
      "\u001b[1;31m---------------------------------------------------------------------------\u001b[0m",
      "\u001b[1;31mAssertionError\u001b[0m                            Traceback (most recent call last)",
      "\u001b[1;32m<ipython-input-8-0608ff1e5b3b>\u001b[0m in \u001b[0;36m<module>\u001b[1;34m\u001b[0m\n\u001b[0;32m     11\u001b[0m \u001b[0mstyle\u001b[0m\u001b[1;33m.\u001b[0m\u001b[0muse\u001b[0m\u001b[1;33m(\u001b[0m\u001b[1;34m'ggplot'\u001b[0m\u001b[1;33m)\u001b[0m\u001b[1;33m\u001b[0m\u001b[1;33m\u001b[0m\u001b[0m\n\u001b[0;32m     12\u001b[0m \u001b[1;33m\u001b[0m\u001b[0m\n\u001b[1;32m---> 13\u001b[1;33m \u001b[0my_2004\u001b[0m \u001b[1;33m=\u001b[0m \u001b[0mdataset\u001b[0m\u001b[1;33m[\u001b[0m\u001b[1;34m\"2004\"\u001b[0m\u001b[1;33m]\u001b[0m\u001b[1;33m[\u001b[0m\u001b[1;34m\"AEP_MW\"\u001b[0m\u001b[1;33m]\u001b[0m\u001b[1;33m.\u001b[0m\u001b[0mto_list\u001b[0m\u001b[1;33m(\u001b[0m\u001b[1;33m)\u001b[0m\u001b[1;33m\u001b[0m\u001b[1;33m\u001b[0m\u001b[0m\n\u001b[0m\u001b[0;32m     14\u001b[0m \u001b[0mx_2004\u001b[0m \u001b[1;33m=\u001b[0m \u001b[0mdataset\u001b[0m\u001b[1;33m[\u001b[0m\u001b[1;34m\"2004\"\u001b[0m\u001b[1;33m]\u001b[0m\u001b[1;33m[\u001b[0m\u001b[1;34m\"Date\"\u001b[0m\u001b[1;33m]\u001b[0m\u001b[1;33m.\u001b[0m\u001b[0mto_list\u001b[0m\u001b[1;33m(\u001b[0m\u001b[1;33m)\u001b[0m\u001b[1;33m\u001b[0m\u001b[1;33m\u001b[0m\u001b[0m\n\u001b[0;32m     15\u001b[0m \u001b[0max1\u001b[0m\u001b[1;33m.\u001b[0m\u001b[0mplot\u001b[0m\u001b[1;33m(\u001b[0m\u001b[0mx_2004\u001b[0m\u001b[1;33m,\u001b[0m\u001b[0my_2004\u001b[0m\u001b[1;33m,\u001b[0m \u001b[0mcolor\u001b[0m\u001b[1;33m=\u001b[0m\u001b[1;34m\"green\"\u001b[0m\u001b[1;33m,\u001b[0m \u001b[0mlinewidth\u001b[0m\u001b[1;33m=\u001b[0m\u001b[1;36m1.7\u001b[0m\u001b[1;33m)\u001b[0m\u001b[1;33m\u001b[0m\u001b[1;33m\u001b[0m\u001b[0m\n",
      "\u001b[1;32m~\\anaconda3\\lib\\site-packages\\pandas\\core\\frame.py\u001b[0m in \u001b[0;36m__getitem__\u001b[1;34m(self, key)\u001b[0m\n\u001b[0;32m   2883\u001b[0m             \u001b[1;31m# either we have a slice or we have a string that can be converted\u001b[0m\u001b[1;33m\u001b[0m\u001b[1;33m\u001b[0m\u001b[1;33m\u001b[0m\u001b[0m\n\u001b[0;32m   2884\u001b[0m             \u001b[1;31m#  to a slice for partial-string date indexing\u001b[0m\u001b[1;33m\u001b[0m\u001b[1;33m\u001b[0m\u001b[1;33m\u001b[0m\u001b[0m\n\u001b[1;32m-> 2885\u001b[1;33m             \u001b[1;32mreturn\u001b[0m \u001b[0mself\u001b[0m\u001b[1;33m.\u001b[0m\u001b[0m_slice\u001b[0m\u001b[1;33m(\u001b[0m\u001b[0mindexer\u001b[0m\u001b[1;33m,\u001b[0m \u001b[0maxis\u001b[0m\u001b[1;33m=\u001b[0m\u001b[1;36m0\u001b[0m\u001b[1;33m)\u001b[0m\u001b[1;33m\u001b[0m\u001b[1;33m\u001b[0m\u001b[0m\n\u001b[0m\u001b[0;32m   2886\u001b[0m \u001b[1;33m\u001b[0m\u001b[0m\n\u001b[0;32m   2887\u001b[0m         \u001b[1;31m# Do we have a (boolean) DataFrame?\u001b[0m\u001b[1;33m\u001b[0m\u001b[1;33m\u001b[0m\u001b[1;33m\u001b[0m\u001b[0m\n",
      "\u001b[1;32m~\\anaconda3\\lib\\site-packages\\pandas\\core\\generic.py\u001b[0m in \u001b[0;36m_slice\u001b[1;34m(self, slobj, axis)\u001b[0m\n\u001b[0;32m   3555\u001b[0m         \u001b[0mSlicing\u001b[0m \u001b[1;32mwith\u001b[0m \u001b[0mthis\u001b[0m \u001b[0mmethod\u001b[0m \u001b[1;32mis\u001b[0m \u001b[1;33m*\u001b[0m\u001b[0malways\u001b[0m\u001b[1;33m*\u001b[0m \u001b[0mpositional\u001b[0m\u001b[1;33m.\u001b[0m\u001b[1;33m\u001b[0m\u001b[1;33m\u001b[0m\u001b[0m\n\u001b[0;32m   3556\u001b[0m         \"\"\"\n\u001b[1;32m-> 3557\u001b[1;33m         \u001b[1;32massert\u001b[0m \u001b[0misinstance\u001b[0m\u001b[1;33m(\u001b[0m\u001b[0mslobj\u001b[0m\u001b[1;33m,\u001b[0m \u001b[0mslice\u001b[0m\u001b[1;33m)\u001b[0m\u001b[1;33m,\u001b[0m \u001b[0mtype\u001b[0m\u001b[1;33m(\u001b[0m\u001b[0mslobj\u001b[0m\u001b[1;33m)\u001b[0m\u001b[1;33m\u001b[0m\u001b[1;33m\u001b[0m\u001b[0m\n\u001b[0m\u001b[0;32m   3558\u001b[0m         \u001b[0maxis\u001b[0m \u001b[1;33m=\u001b[0m \u001b[0mself\u001b[0m\u001b[1;33m.\u001b[0m\u001b[0m_get_block_manager_axis\u001b[0m\u001b[1;33m(\u001b[0m\u001b[0maxis\u001b[0m\u001b[1;33m)\u001b[0m\u001b[1;33m\u001b[0m\u001b[1;33m\u001b[0m\u001b[0m\n\u001b[0;32m   3559\u001b[0m         \u001b[0mresult\u001b[0m \u001b[1;33m=\u001b[0m \u001b[0mself\u001b[0m\u001b[1;33m.\u001b[0m\u001b[0m_constructor\u001b[0m\u001b[1;33m(\u001b[0m\u001b[0mself\u001b[0m\u001b[1;33m.\u001b[0m\u001b[0m_mgr\u001b[0m\u001b[1;33m.\u001b[0m\u001b[0mget_slice\u001b[0m\u001b[1;33m(\u001b[0m\u001b[0mslobj\u001b[0m\u001b[1;33m,\u001b[0m \u001b[0maxis\u001b[0m\u001b[1;33m=\u001b[0m\u001b[0maxis\u001b[0m\u001b[1;33m)\u001b[0m\u001b[1;33m)\u001b[0m\u001b[1;33m\u001b[0m\u001b[1;33m\u001b[0m\u001b[0m\n",
      "\u001b[1;31mAssertionError\u001b[0m: <class 'numpy.ndarray'>"
     ]
    },
    {
     "data": {
      "image/png": "[encoded data removed]",
      "text/plain": [
       "<Figure size 1080x432 with 3 Axes>"
      ]
     },
     "metadata": {},
     "output_type": "display_data"
    }
   ],
   "source": [
    "from matplotlib import style\n",
    "\n",
    "\n",
    "fig = plt.figure()\n",
    "\n",
    "ax1= fig.add_subplot(311)\n",
    "ax2= fig.add_subplot(312)\n",
    "ax3= fig.add_subplot(313)\n",
    "\n",
    "\n",
    "style.use('ggplot')\n",
    "\n",
    "y_2004 = dataset[\"2004\"][\"AEP_MW\"].to_list()\n",
    "x_2004 = dataset[\"2004\"][\"Date\"].to_list()\n",
    "ax1.plot(x_2004,y_2004, color=\"green\", linewidth=1.7)\n",
    "\n",
    "\n",
    "y_2005 = dataset[\"2005\"][\"AEP_MW\"].to_list()\n",
    "x_2005 = dataset[\"2005\"][\"Date\"].to_list()\n",
    "ax2.plot(x_2005, y_2005, color=\"green\", linewidth=1)\n",
    "\n",
    "\n",
    "y_2006 = dataset[\"2006\"][\"AEP_MW\"].to_list()\n",
    "x_2006 = dataset[\"2006\"][\"Date\"].to_list()\n",
    "ax3.plot(x_2006, y_2006, color=\"green\", linewidth=1)\n",
    "\n",
    "\n",
    "plt.rcParams[\"figure.figsize\"] = (18,8)\n",
    "plt.title(\"Energy consumptionnin\")\n",
    "plt.xlabel(\"Date\")\n",
    "plt.ylabel(\"Energy in MW\")\n",
    "plt.grid(True, alpha=1)\n",
    "plt.legend()\n",
    "\n",
    "for label in ax1.xaxis.get_ticklabels():\n",
    "    label.set_rotation(90)"
   ]
  },
  {
   "cell_type": "code",
   "execution_count": null,
   "metadata": {},
   "outputs": [],
   "source": []
  },
  {
   "cell_type": "code",
   "execution_count": null,
   "metadata": {},
   "outputs": [],
   "source": []
  },
  {
   "cell_type": "code",
   "execution_count": null,
   "metadata": {},
   "outputs": [],
   "source": []
  },
  {
   "cell_type": "code",
   "execution_count": null,
   "metadata": {},
   "outputs": [],
   "source": []
  },
  {
   "cell_type": "code",
   "execution_count": null,
   "metadata": {},
   "outputs": [],
   "source": []
  },
  {
   "cell_type": "code",
   "execution_count": null,
   "metadata": {},
   "outputs": [],
   "source": []
  }
 ],
 "metadata": {
  "kernelspec": {
   "display_name": "Python 3",
   "language": "python",
   "name": "python3"
  },
  "language_info": {
   "codemirror_mode": {
    "name": "ipython",
    "version": 3
   },
   "file_extension": ".py",
   "mimetype": "text/x-python",
   "name": "python",
   "nbconvert_exporter": "python",
   "pygments_lexer": "ipython3",
   "version": "3.8.5"
  }
 },
 "nbformat": 4,
 "nbformat_minor": 4
}
