{
 "cells": [
  {
   "cell_type": "markdown",
   "metadata": {},
   "source": [
    "Questions\n",
    "Write each program in its own cell.\n",
    "1.\tLoad the ‘StudentsPerformance.csv’ into a pandas DataFrame. \n",
    "2.\tPrint top few rows to understand about the various data columns.\n",
    "3.\tFind the size of data frame.\n",
    "4.\tCheck for any missing values.\n",
    "5.\tCheck the data type of all the column values.\n",
    "6.\tAnalyse the values of the columns and check whether they are numerical or categorical.\n",
    "7.\tAdd columns “total” and “average” to the dataset to get the total and average score.\n",
    "8.\tAnalysing the average score of all the students on the basis of “race/ethnicity”, “parental level of education”, and “test preparation course” with a clear visualization.\n",
    "9.\tSet the minimum marks to 40 to pass in an exam. Analyse the data on the basis of the no. of students who failed or passed the exam on each score.\n"
   ]
  },
  {
   "cell_type": "code",
   "execution_count": null,
   "metadata": {},
   "outputs": [],
   "source": []
  },
  {
   "cell_type": "markdown",
   "metadata": {},
   "source": [
    "1.\tLoad the ‘StudentsPerformance.csv’ into a pandas DataFrame."
   ]
  },
  {
   "cell_type": "code",
   "execution_count": 4,
   "metadata": {},
   "outputs": [
    {
     "name": "stdout",
     "output_type": "stream",
     "text": [
      "     gender race/ethnicity parental level of education         lunch  \\\n",
      "0    female        group B           bachelor's degree      standard   \n",
      "1    female        group C                some college      standard   \n",
      "2    female        group B             master's degree      standard   \n",
      "3      male        group A          associate's degree  free/reduced   \n",
      "4      male        group C                some college      standard   \n",
      "..      ...            ...                         ...           ...   \n",
      "995  female        group E             master's degree      standard   \n",
      "996    male        group C                 high school  free/reduced   \n",
      "997  female        group C                 high school  free/reduced   \n",
      "998  female        group D                some college      standard   \n",
      "999  female        group D                some college  free/reduced   \n",
      "\n",
      "    test preparation course  math score  reading score  writing score  \n",
      "0                      none          72             72             74  \n",
      "1                 completed          69             90             88  \n",
      "2                      none          90             95             93  \n",
      "3                      none          47             57             44  \n",
      "4                      none          76             78             75  \n",
      "..                      ...         ...            ...            ...  \n",
      "995               completed          88             99             95  \n",
      "996                    none          62             55             55  \n",
      "997               completed          59             71             65  \n",
      "998               completed          68             78             77  \n",
      "999                    none          77             86             86  \n",
      "\n",
      "[1000 rows x 8 columns]\n"
     ]
    }
   ],
   "source": [
    "import pandas as pd\n",
    "filename = \"E:\\\\4th Semester\\\\Machine Learning Using Python\\\\Assignments\\\\StudentsPerformance.csv\"\n",
    "df=pd.read_csv(filename)\n",
    "print(df)"
   ]
  },
  {
   "cell_type": "markdown",
   "metadata": {},
   "source": [
    "2.\tPrint top few rows to understand about the various data columns."
   ]
  },
  {
   "cell_type": "code",
   "execution_count": 5,
   "metadata": {},
   "outputs": [
    {
     "name": "stdout",
     "output_type": "stream",
     "text": [
      "   gender race/ethnicity parental level of education         lunch  \\\n",
      "0  female        group B           bachelor's degree      standard   \n",
      "1  female        group C                some college      standard   \n",
      "2  female        group B             master's degree      standard   \n",
      "3    male        group A          associate's degree  free/reduced   \n",
      "4    male        group C                some college      standard   \n",
      "\n",
      "  test preparation course  math score  reading score  writing score  \n",
      "0                    none          72             72             74  \n",
      "1               completed          69             90             88  \n",
      "2                    none          90             95             93  \n",
      "3                    none          47             57             44  \n",
      "4                    none          76             78             75  \n"
     ]
    }
   ],
   "source": [
    "print (df.head())"
   ]
  },
  {
   "cell_type": "markdown",
   "metadata": {},
   "source": [
    "3.\tFind the size of data frame."
   ]
  },
  {
   "cell_type": "code",
   "execution_count": 6,
   "metadata": {},
   "outputs": [
    {
     "data": {
      "text/plain": [
       "8000"
      ]
     },
     "execution_count": 6,
     "metadata": {},
     "output_type": "execute_result"
    }
   ],
   "source": [
    "df.size"
   ]
  },
  {
   "cell_type": "markdown",
   "metadata": {},
   "source": [
    "4.\tCheck for any missing values."
   ]
  },
  {
   "cell_type": "code",
   "execution_count": null,
   "metadata": {},
   "outputs": [],
   "source": []
  },
  {
   "cell_type": "markdown",
   "metadata": {},
   "source": [
    "5.\tCheck the data type of all the column values."
   ]
  },
  {
   "cell_type": "code",
   "execution_count": 7,
   "metadata": {},
   "outputs": [
    {
     "name": "stdout",
     "output_type": "stream",
     "text": [
      "gender                         object\n",
      "race/ethnicity                 object\n",
      "parental level of education    object\n",
      "lunch                          object\n",
      "test preparation course        object\n",
      "math score                      int64\n",
      "reading score                   int64\n",
      "writing score                   int64\n",
      "dtype: object\n"
     ]
    }
   ],
   "source": []
  },
  {
   "cell_type": "markdown",
   "metadata": {},
   "source": [
    "6.\tAnalyse the values of the columns and check whether they are numerical or categorical."
   ]
  },
  {
   "cell_type": "code",
   "execution_count": null,
   "metadata": {},
   "outputs": [],
   "source": []
  },
  {
   "cell_type": "markdown",
   "metadata": {},
   "source": [
    "7.\tAdd columns “total” and “average” to the dataset to get the total and average score."
   ]
  },
  {
   "cell_type": "code",
   "execution_count": 13,
   "metadata": {},
   "outputs": [
    {
     "name": "stdout",
     "output_type": "stream",
     "text": [
      "                                                  gender  \\\n",
      "0                                                 female   \n",
      "1                                                 female   \n",
      "2                                                 female   \n",
      "3                                                   male   \n",
      "4                                                   male   \n",
      "...                                                  ...   \n",
      "996                                                 male   \n",
      "997                                               female   \n",
      "998                                               female   \n",
      "999                                               female   \n",
      "Total  femalefemalefemalemalemalefemalefemalemalemale...   \n",
      "\n",
      "                                          race/ethnicity  \\\n",
      "0                                                group B   \n",
      "1                                                group C   \n",
      "2                                                group B   \n",
      "3                                                group A   \n",
      "4                                                group C   \n",
      "...                                                  ...   \n",
      "996                                              group C   \n",
      "997                                              group C   \n",
      "998                                              group D   \n",
      "999                                              group D   \n",
      "Total  group Bgroup Cgroup Bgroup Agroup Cgroup Bgrou...   \n",
      "\n",
      "                             parental level of education  \\\n",
      "0                                      bachelor's degree   \n",
      "1                                           some college   \n",
      "2                                        master's degree   \n",
      "3                                     associate's degree   \n",
      "4                                           some college   \n",
      "...                                                  ...   \n",
      "996                                          high school   \n",
      "997                                          high school   \n",
      "998                                         some college   \n",
      "999                                         some college   \n",
      "Total  bachelor's degreesome collegemaster's degreeas...   \n",
      "\n",
      "                                                   lunch  \\\n",
      "0                                               standard   \n",
      "1                                               standard   \n",
      "2                                               standard   \n",
      "3                                           free/reduced   \n",
      "4                                               standard   \n",
      "...                                                  ...   \n",
      "996                                         free/reduced   \n",
      "997                                         free/reduced   \n",
      "998                                             standard   \n",
      "999                                         free/reduced   \n",
      "Total  standardstandardstandardfree/reducedstandardst...   \n",
      "\n",
      "                                 test preparation course  math score  \\\n",
      "0                                                   none          72   \n",
      "1                                              completed          69   \n",
      "2                                                   none          90   \n",
      "3                                                   none          47   \n",
      "4                                                   none          76   \n",
      "...                                                  ...         ...   \n",
      "996                                                 none          62   \n",
      "997                                            completed          59   \n",
      "998                                            completed          68   \n",
      "999                                                 none          77   \n",
      "Total  nonecompletednonenonenonenonecompletednonecomp...       66089   \n",
      "\n",
      "       reading score  writing score total  \n",
      "0                 72             74   NaN  \n",
      "1                 90             88   NaN  \n",
      "2                 95             93   NaN  \n",
      "3                 57             44   NaN  \n",
      "4                 78             75   NaN  \n",
      "...              ...            ...   ...  \n",
      "996               55             55   NaN  \n",
      "997               71             65   NaN  \n",
      "998               78             77   NaN  \n",
      "999               86             86   NaN  \n",
      "Total          69169          68054     0  \n",
      "\n",
      "[1001 rows x 9 columns]\n"
     ]
    }
   ],
   "source": [
    "\n",
    "total = df.sum()\n",
    "total.name = 'Total'\n",
    "# Assign sum of all rows of DataFrame as a new Row\n",
    "df = df.append(total.transpose())\n",
    "print(df)"
   ]
  },
  {
   "cell_type": "markdown",
   "metadata": {},
   "source": [
    "8.\tAnalysing the average score of all the students on the basis of “race/ethnicity”, “parental level of education”, and “test preparation course” with a clear visualization."
   ]
  },
  {
   "cell_type": "code",
   "execution_count": null,
   "metadata": {},
   "outputs": [],
   "source": []
  },
  {
   "cell_type": "markdown",
   "metadata": {},
   "source": [
    "9.\tSet the minimum marks to 40 to pass in an exam. Analyse the data on the basis of the no. of students who failed or passed the exam on each score."
   ]
  }
 ],
 "metadata": {
  "kernelspec": {
   "display_name": "Python 3",
   "language": "python",
   "name": "python3"
  },
  "language_info": {
   "codemirror_mode": {
    "name": "ipython",
    "version": 3
   },
   "file_extension": ".py",
   "mimetype": "text/x-python",
   "name": "python",
   "nbconvert_exporter": "python",
   "pygments_lexer": "ipython3",
   "version": "3.8.5"
  }
 },
 "nbformat": 4,
 "nbformat_minor": 4
}
