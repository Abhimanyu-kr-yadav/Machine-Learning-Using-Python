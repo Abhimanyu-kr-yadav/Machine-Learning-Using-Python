{
 "cells": [
  {
   "cell_type": "code",
   "execution_count": 1,
   "metadata": {},
   "outputs": [
    {
     "name": "stdout",
     "output_type": "stream",
     "text": [
      "hello world\n"
     ]
    }
   ],
   "source": [
    "print(\"hello world\")"
   ]
  },
  {
   "cell_type": "code",
   "execution_count": 3,
   "metadata": {},
   "outputs": [
    {
     "name": "stdout",
     "output_type": "stream",
     "text": [
      "value of a is 5\n"
     ]
    },
    {
     "data": {
      "text/plain": [
       "'abhimanyu'"
      ]
     },
     "execution_count": 3,
     "metadata": {},
     "output_type": "execute_result"
    }
   ],
   "source": [
    "#Program for Addition operations\n",
    "a = 5\n",
    "b= 3\n",
    "print(\"value of a is\",a)\n",
    "\"\"\"Hello world\"\"\"\n",
    "'''abhimanyu'''"
   ]
  },
  {
   "cell_type": "code",
   "execution_count": 6,
   "metadata": {},
   "outputs": [
    {
     "name": "stdout",
     "output_type": "stream",
     "text": [
      "a+b =  10\n",
      "a-b =  -2\n",
      "a*b =  24\n",
      "a/b =  0.6666666666666666\n",
      "a%b =  4\n"
     ]
    }
   ],
   "source": [
    "#Write a program to perform all the arithmetic operation using python programming.\n",
    "a=4\n",
    "b=6\n",
    "c=a+b\n",
    "d=a-b\n",
    "e=a*b\n",
    "f=a/b\n",
    "g=a%b\n",
    "print(\"a+b = \",c)'''Addition'''\n",
    "print(\"a-b = \",d)\"\"\"Subtraction\"\"\"\n",
    "print(\"a*b = \",e)\"\"\"Multiplication\"\"\"\n",
    "print(\"a/b = \",f)'''Division'''\n",
    "print(\"a%b = \",g)'''Modulus'''\n",
    "\n"
   ]
  },
  {
   "cell_type": "code",
   "execution_count": 2,
   "metadata": {},
   "outputs": [
    {
     "name": "stdout",
     "output_type": "stream",
     "text": [
      "45\n"
     ]
    }
   ],
   "source": [
    "#Write a program to perform all the arithmetic operation using python programming.\n",
    "a=45\n",
    "print(a)"
   ]
  },
  {
   "cell_type": "code",
   "execution_count": 3,
   "metadata": {},
   "outputs": [
    {
     "name": "stdout",
     "output_type": "stream",
     "text": [
      "enter a number67\n",
      "the 67 is an odd number\n"
     ]
    }
   ],
   "source": [
    "#check whether the number is even or odd\n",
    "n=int(input(\"enter a number\"))\n",
    "\n",
    "m=n%2\n",
    "if(m==0):\n",
    "    print(\"the {} is an even number\".format(n))\n",
    "else:\n",
    "    print(\"the {} is an odd number\".format(n) )\n",
    "    \n",
    "#print(\"vlaue of z\",z)\n",
    "#print(\"and the value of m\", m)"
   ]
  },
  {
   "cell_type": "code",
   "execution_count": null,
   "metadata": {},
   "outputs": [],
   "source": [
    "from playsound import playsound\n",
    "playsound('D:\\\\Music\\\\kab.mp3')"
   ]
  }
 ],
 "metadata": {
  "kernelspec": {
   "display_name": "Python 3",
   "language": "python",
   "name": "python3"
  },
  "language_info": {
   "codemirror_mode": {
    "name": "ipython",
    "version": 3
   },
   "file_extension": ".py",
   "mimetype": "text/x-python",
   "name": "python",
   "nbconvert_exporter": "python",
   "pygments_lexer": "ipython3",
   "version": "3.8.5"
  }
 },
 "nbformat": 4,
 "nbformat_minor": 4
}
