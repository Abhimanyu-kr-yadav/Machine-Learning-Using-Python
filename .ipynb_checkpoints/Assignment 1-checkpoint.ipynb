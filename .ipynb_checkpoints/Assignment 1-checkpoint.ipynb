{
 "cells": [
  {
   "cell_type": "markdown",
   "metadata": {},
   "source": [
    "# Assignment 1\n",
    "1. Python program to find the factorial of a number\n",
    "2. Python program to print the fibonacci sequence\n",
    "3. Python program to find armstrong number in an interval.\n",
    "4. Python program to convert decimal to binary, octal and hexadecimal \n",
    "5. Python ptogram to find ASCII Value of character\n",
    "6. Python program to find HCF or GCD\n",
    "7. Python program to find LCM\n",
    "8. Python program to find the factors of a Number\n",
    "9. Python program to convert decimal to binary using recursion.\n",
    "10. Python program to make a simple calculator\n",
    "11. Python program to add two matrices\n",
    "12. Python program to count the number of each vowel.\n",
    "13. Python program to check whether a string is palindrome or not.\n",
    "14. Python program to find sum of natural numbers using recursion\n",
    "15. Python program to find factorial of number using recursion.\n"
   ]
  }
 ],
 "metadata": {
  "kernelspec": {
   "display_name": "Python 3",
   "language": "python",
   "name": "python3"
  },
  "language_info": {
   "codemirror_mode": {
    "name": "ipython",
    "version": 3
   },
   "file_extension": ".py",
   "mimetype": "text/x-python",
   "name": "python",
   "nbconvert_exporter": "python",
   "pygments_lexer": "ipython3",
   "version": "3.8.5"
  }
 },
 "nbformat": 4,
 "nbformat_minor": 4
}
